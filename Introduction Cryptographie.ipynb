{
 "cells": [
  {
   "cell_type": "markdown",
   "id": "12b7c52e",
   "metadata": {},
   "source": [
    "# Introduction Cryptographie"
   ]
  },
  {
   "cell_type": "markdown",
   "id": "a5e5ad39",
   "metadata": {},
   "source": [
    "# What is Crypto :\n",
    "Cryptography is associated with the process of converting ordinary plain text into unintelligible text which is called the ciphertext and vice-versa. It is a method of storing and transmitting data in a particular form so that only those for whom it is intended can read and process it."
   ]
  },
  {
   "cell_type": "markdown",
   "id": "bbf11bf6",
   "metadata": {},
   "source": [
    "# Cryptography Goals\n",
    "● Authentication.\n",
    "\n",
    "● Integrity.\n",
    "\n",
    "● Non-Repudiation.\n",
    "\n",
    "● Confidentiality."
   ]
  },
  {
   "cell_type": "markdown",
   "id": "a5022358",
   "metadata": {},
   "source": [
    "# Basics and Terminology\n",
    "● Encryption: is the principal application of cryptography, it makes data incomprehensible in order to ensure its confidentiality (plaintext→ ciphertext).\n",
    "\n",
    "● Decryption: Is the inverse operation of encryption ,it turns a ciphertext back into a plaintext.\n",
    "\n",
    "● Cipher: It’s the Core algorithm which ensure The operation of Encryption and Decryption, there are many Known and Famous Ciphers as: Caesar,Vigenere , RSA,ECC.\n",
    "\n",
    "● Key: the key is a secret string , if you don’t know the secret key, you can’t decrypt, nor can you learn any bit of information on the encrypted message—and neither can any attacker. "
   ]
  },
  {
   "cell_type": "markdown",
   "id": "ac0e6af7",
   "metadata": {},
   "source": [
    "# type de cryptographie :\n",
    "An encryption system is said to be: \n",
    "\n",
    "● symmetric encryption when it uses the same key to encrypt and decrypt.\n",
    "\n",
    "● asymmetric encryption when it uses different keys: a pair composed of a public key, used for encryption, and a private key, used for decryption\n"
   ]
  }
 ],
 "metadata": {
  "kernelspec": {
   "display_name": "Python 3 (ipykernel)",
   "language": "python",
   "name": "python3"
  },
  "language_info": {
   "codemirror_mode": {
    "name": "ipython",
    "version": 3
   },
   "file_extension": ".py",
   "mimetype": "text/x-python",
   "name": "python",
   "nbconvert_exporter": "python",
   "pygments_lexer": "ipython3",
   "version": "3.9.1"
  }
 },
 "nbformat": 4,
 "nbformat_minor": 5
}

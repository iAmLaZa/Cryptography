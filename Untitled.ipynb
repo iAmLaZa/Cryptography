{
 "cells": [
  {
   "cell_type": "code",
   "execution_count": 10,
   "id": "344fa6d5",
   "metadata": {},
   "outputs": [
    {
     "name": "stdout",
     "output_type": "stream",
     "text": [
      "NpkpyqrxzAe5mL5Tlh4sHdumyVad7whdmVf4APzRlhzSapo\n"
     ]
    }
   ],
   "source": [
    "import string\n",
    "from secret import FLAG\n",
    "\n",
    "flag = 'Shellmates'\n",
    "key = \"vigenere\"\n",
    "\n",
    "# I decided to use this alphabet for the vigenere cipher\n",
    "alphabet = string.ascii_letters + string.digits + '}{_'\n",
    "n = len(alphabet)\n",
    "enc = 'NpkpyqrxzAe5mL5Tlh4sHdumyVad7whdmVf4APzRlhzSapo'\n",
    "\n",
    "# Here is the vigenere cipher\n",
    "for ind in range(len(flag)) :\n",
    "    c = flag[ind]\n",
    "    k = key[ind % len(key)]\n",
    "    if c in alphabet :\n",
    "        i = alphabet.index(c)\n",
    "        j = alphabet.index(k)\n",
    "        enc += alphabet[(i + j) % n]\n",
    "    else :\n",
    "        enc += c\n",
    "\n",
    "print(enc)"
   ]
  },
  {
   "cell_type": "code",
   "execution_count": 14,
   "id": "f8b294de",
   "metadata": {},
   "outputs": [
    {
     "name": "stdout",
     "output_type": "stream",
     "text": [
      "the Public Key is :(122176702587666222656178997306731800315470313059945484356045257042705559830013657538331816145529429726151793155958841047018561457555987730110440277108141326199691362293314424082813461080279740645015286947964248952299406909198742180493424343261367022537985375818956994585644741915127081479325596597482215803401,65537)\n",
      "the private Key is : 23746690229361922947257397618034845544020337332462358358290804953079686606263850492443515480747575809874140427859128694583554875052995585793472210351458015027224805334175317944327944799830013158685871818129234892528851753946908556077016450846922615264121227904916717322425670441291454958367405755333759999369\n"
     ]
    }
   ],
   "source": [
    "from Crypto.Util.number import getPrime,inverse,long_to_bytes,bytes_to_long\n",
    "#We'll use small primes\n",
    "\n",
    "p=10302475642106667177286174748379179203110671979783566041907614920791357491512205961496124805452935203805051483877828293835774330775237173299325065631516939\n",
    "q=11858965440143795322466491082119654504218218642276288953853315090812579942296516429157455703708355748055835417307120060031300874961948972467551321543536059\n",
    "N=122176702587666222656178997306731800315470313059945484356045257042705559830013657538331816145529429726151793155958841047018561457555987730110440277108141326199691362293314424082813461080279740645015286947964248952299406909198742180493424343261367022537985375818956994585644741915127081479325596597482215803401\n",
    "\n",
    "e=65537\n",
    "phi=(p-1) * (q-1)\n",
    "d=inverse(e,phi)\n",
    "assert (e*d % phi ==1)\n",
    "print(f\"the Public Key is :({N},{e})\")\n",
    "print(f\"the private Key is : {d}\")"
   ]
  },
  {
   "cell_type": "code",
   "execution_count": 17,
   "id": "55bb6d2c",
   "metadata": {},
   "outputs": [
    {
     "name": "stdout",
     "output_type": "stream",
     "text": [
      "the encrypted message is :b'\\x08\\x01 \\xaf\\x9e\\xd2\\xc6?\\xa9\\x89z\\x01\\xa9p\\xed\\x95\\xb1\\xdf\\xc9\\xc7\\x93V\\x95\\xf0z\\xbci\\x18|,6sSw\\xaf<\\xf4\\xc4\\xab\\x98\\xb5\\xf2^\\x14\\xc9\\x90]7d=n\\x12\\x12\\xd0\\x99\\x94\\x9f\\xf44~\\xc6 MTv\\xd7)\\xa8V\\xe7\\x15\\xb0\\xd4\\x8d\\x80X@pk*\\xe3\\x00\\x1f\\xc5\\xdc\\x805\\xf8t\\xda\\xbc\\x9d\\x85\\x08|=eC\\x17\\x8aa\\x96a\\xd0\\x84\\xdd\\x88\\xebW\\xf8YE\"\\xcd\\xfd\\xaa\\x96\\x1eh\\xb9\\xb2X?$\\x94yt\\x02'\n",
      "m1: b'a secret message'\n"
     ]
    }
   ],
   "source": [
    "m=b'a secret message'\n",
    "#the encryption\n",
    "c=pow(bytes_to_long(m),e,N)\n",
    "print(f\"the encrypted message is :{long_to_bytes(c)}\")\n",
    "#the decryption\n",
    "m1=long_to_bytes(pow(c,d,N))\n",
    "assert m1==m\n",
    "print(f\"m1: {m1}\")"
   ]
  },
  {
   "cell_type": "code",
   "execution_count": 34,
   "id": "2161420b",
   "metadata": {},
   "outputs": [
    {
     "name": "stdout",
     "output_type": "stream",
     "text": [
      "RSA decoder : \n",
      "shellmates{c0ngr4tz_n0w_y0u_kn0w_h0w_RSA_w0rk5}\n"
     ]
    }
   ],
   "source": [
    "from Crypto.Util.number import inverse, long_to_bytes\n",
    "print(\"RSA decoder : \")\n",
    "\n",
    "#Change the value depend the message you want to decryt\n",
    "\n",
    "# c : CYPHER that you need to decrypt\n",
    "c = 87815546076588618625541560350417770089532632825977918029330610242087257411093643525039325177638300816853764504706021259937697220315137936205519768037826354458722904344896564975662243025145035289336915227143767336519280796290681474773611880512977171856849316412054226076644208436394552152773159004969353718134 \n",
    "# use https://www.alpertron.com.ar/ECM.HTM to factorize n and get p and q\n",
    "n = 122176702587666222656178997306731800315470313059945484356045257042705559830013657538331816145529429726151793155958841047018561457555987730110440277108141326199691362293314424082813461080279740645015286947964248952299406909198742180493424343261367022537985375818956994585644741915127081479325596597482215803401\n",
    "p = 10302475642106667177286174748379179203110671979783566041907614920791357491512205961496124805452935203805051483877828293835774330775237173299325065631516939\n",
    "q = 11858965440143795322466491082119654504218218642276288953853315090812579942296516429157455703708355748055835417307120060031300874961948972467551321543536059\n",
    "e = 65537\n",
    "\n",
    "phi=(p-1)*(q-1) #calculate phi\n",
    "d=inverse(e, phi) #calculate d the private key\n",
    "message = pow(c, d, n)\n",
    "print(long_to_bytes(message).decode())"
   ]
  },
  {
   "cell_type": "code",
   "execution_count": 22,
   "id": "c35efe4d",
   "metadata": {},
   "outputs": [
    {
     "ename": "ImportError",
     "evalue": "cannot import name 'FLAG' from 'secret' (c:\\python\\lib\\site-packages\\secret\\__init__.py)",
     "output_type": "error",
     "traceback": [
      "\u001b[1;31m---------------------------------------------------------------------------\u001b[0m",
      "\u001b[1;31mImportError\u001b[0m                               Traceback (most recent call last)",
      "Input \u001b[1;32mIn [22]\u001b[0m, in \u001b[0;36m<cell line: 2>\u001b[1;34m()\u001b[0m\n\u001b[0;32m      1\u001b[0m \u001b[38;5;28;01mimport\u001b[39;00m \u001b[38;5;21;01mstring\u001b[39;00m\n\u001b[1;32m----> 2\u001b[0m \u001b[38;5;28;01mfrom\u001b[39;00m \u001b[38;5;21;01msecret\u001b[39;00m \u001b[38;5;28;01mimport\u001b[39;00m FLAG, KEY\n\u001b[0;32m      4\u001b[0m flag \u001b[38;5;241m=\u001b[39m FLAG\n\u001b[0;32m      5\u001b[0m key \u001b[38;5;241m=\u001b[39m KEY\n",
      "\u001b[1;31mImportError\u001b[0m: cannot import name 'FLAG' from 'secret' (c:\\python\\lib\\site-packages\\secret\\__init__.py)"
     ]
    }
   ],
   "source": [
    "import string\n",
    "from secret import FLAG, KEY\n",
    "\n",
    "flag = FLAG\n",
    "key = KEY\n",
    "\n",
    "possible_chars = string.ascii_letters + string.digits\n",
    "n = len(possible_chars)\n",
    "enc = ''\n",
    "\n",
    "for c in flag :\n",
    "    if c in possible_chars :\n",
    "        i =  possible_chars.index(c)\n",
    "        enc += possible_chars[(i + key) % n]\n",
    "    else :\n",
    "        enc += c\n",
    "\n",
    "print(enc)"
   ]
  },
  {
   "cell_type": "code",
   "execution_count": 29,
   "id": "9a364d12",
   "metadata": {},
   "outputs": [
    {
     "name": "stdout",
     "output_type": "stream",
     "text": [
      "<class 'int'>\n",
      "<class 'bytes'>\n",
      "cipher_text = b'\\xa0k\\xf8\\xef\\xe34C\\xf0\\xabc\\x0b\\xc8\\x16e]\\xfb\\x04\\xd9\\xe3\\xfe\\x93\\x91\\x9a\\x85\\xa7rr(\\x98|d\\x82'\n",
      "b'plain_text'\n"
     ]
    }
   ],
   "source": [
    "N=getPrime(256)\n",
    "print(type(N))\n",
    "e=65537\n",
    "msg=b'plain_text'\n",
    "c=long_to_bytes(pow(bytes_to_long(msg),e,N))\n",
    "print(type(c))\n",
    "print(f\"cipher_text = {c}\")\n",
    "d=inverse(e,N-1)\n",
    "print(long_to_bytes(pow(bytes_to_long(c),d,N)))"
   ]
  },
  {
   "cell_type": "code",
   "execution_count": 32,
   "id": "1d36f20e",
   "metadata": {},
   "outputs": [
    {
     "name": "stdout",
     "output_type": "stream",
     "text": [
      "<class 'int'>\n"
     ]
    },
    {
     "ename": "UnicodeDecodeError",
     "evalue": "'utf-8' codec can't decode byte 0x8d in position 6: invalid start byte",
     "output_type": "error",
     "traceback": [
      "\u001b[1;31m---------------------------------------------------------------------------\u001b[0m",
      "\u001b[1;31mUnicodeDecodeError\u001b[0m                        Traceback (most recent call last)",
      "Input \u001b[1;32mIn [32]\u001b[0m, in \u001b[0;36m<cell line: 12>\u001b[1;34m()\u001b[0m\n\u001b[0;32m     10\u001b[0m d\u001b[38;5;241m=\u001b[39minverse(e, phi) \u001b[38;5;66;03m#calculate d the private key\u001b[39;00m\n\u001b[0;32m     11\u001b[0m message \u001b[38;5;241m=\u001b[39m \u001b[38;5;28mpow\u001b[39m(c, d, n)\n\u001b[1;32m---> 12\u001b[0m \u001b[38;5;28mprint\u001b[39m(\u001b[43mlong_to_bytes\u001b[49m\u001b[43m(\u001b[49m\u001b[43mmessage\u001b[49m\u001b[43m)\u001b[49m\u001b[38;5;241;43m.\u001b[39;49m\u001b[43mdecode\u001b[49m\u001b[43m(\u001b[49m\u001b[43m)\u001b[49m)\n",
      "\u001b[1;31mUnicodeDecodeError\u001b[0m: 'utf-8' codec can't decode byte 0x8d in position 6: invalid start byte"
     ]
    }
   ],
   "source": [
    "N=1018261336751023520497560395829454421245429586704872293236600679847605951423419167478189648109263\n",
    "e=65537\n",
    "p=9942874965373398689\n",
    "q=102411157768469768587484356311902427789461430190314198242306101223897141593967\n",
    "\n",
    "c=713822463491939628949080236459794906441914407944768290378695739068636927695199214947719158013040\n",
    "\n",
    "phi=(p-1)*(q-1) #calculate phi\n",
    "d=inverse(e, phi) #calculate d the private key\n",
    "message = pow(c, d, n)\n",
    "print(long_to_bytes(message).decode())"
   ]
  },
  {
   "cell_type": "code",
   "execution_count": 40,
   "id": "65dea3b0",
   "metadata": {},
   "outputs": [],
   "source": [
    "def decomposition_nombres_premiers(n) :\n",
    "  if not n or n < 2 :\n",
    "    return []\n",
    "  f = []\n",
    "  for i in range (2,n):\n",
    "    while (n % i == 0):\n",
    "      f.append(i)\n",
    "      n /= i\n",
    "    \n",
    "  \n",
    "  return f;\n"
   ]
  },
  {
   "cell_type": "code",
   "execution_count": null,
   "id": "fef6b8bb",
   "metadata": {},
   "outputs": [],
   "source": [
    "print(decomposition_nombres_premiers(27))"
   ]
  },
  {
   "cell_type": "code",
   "execution_count": null,
   "id": "fa85cc5f",
   "metadata": {},
   "outputs": [],
   "source": []
  }
 ],
 "metadata": {
  "kernelspec": {
   "display_name": "Python 3 (ipykernel)",
   "language": "python",
   "name": "python3"
  },
  "language_info": {
   "codemirror_mode": {
    "name": "ipython",
    "version": 3
   },
   "file_extension": ".py",
   "mimetype": "text/x-python",
   "name": "python",
   "nbconvert_exporter": "python",
   "pygments_lexer": "ipython3",
   "version": "3.9.1"
  }
 },
 "nbformat": 4,
 "nbformat_minor": 5
}

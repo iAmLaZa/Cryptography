{
 "cells": [
  {
   "cell_type": "markdown",
   "id": "b842387f",
   "metadata": {},
   "source": [
    "# THE RSA Crypto_system:"
   ]
  },
  {
   "cell_type": "markdown",
   "id": "ff6bebc8",
   "metadata": {},
   "source": [
    "# Inroduction:\n",
    "The most famous of the public key cryptosystem is RSA which is named after its three developers Ron Rivest, Adi Shamir, and Leonard Adleman.\n",
    "At the time of the algorithm's development , the three were researchers at the MIT Laboratory for Computer Science.\n",
    "Basicaly the RSA based on the practical difficulty of the factoring problem."
   ]
  },
  {
   "cell_type": "markdown",
   "id": "8cd17a9e",
   "metadata": {},
   "source": [
    "# Key Creation:\n",
    "1-Choose p and q, two distinct prime numbers.\n",
    "\n",
    "2-calculate their product n = pq, called encryption modulus.\n",
    "\n",
    "3-calculate φ(n) = (p - 1)(q - 1) (this is the value of the Euler indicatrix at n).\n",
    "\n",
    "4-choose a natural integer e prime with φ(n) and strictly less than φ(n), called encryption exponent.\n",
    "\n",
    "5-calculate the natural number d, the inverse of e modulo φ(n), and strictly less than φ(n), called the decryption exponent, d can be computed efficiently by the extended Euclid algorithm.\n",
    "\n",
    "As e is prime with φ(n), according to the Bachet-Bézout theorem there exist two integers d and k such that ed = 1 + kφ(n), i.e. ed ≡ 1 (mod φ(n)): e is indeed invertible modulo φ(n).\n",
    "\n",
    "The pair (n, e) — or (e, n)  is the public encryption key, while its private key is the number d, knowing that the decryption operation only requires the private key d and the integer n, known by the public key (the private key is sometimes also defined as the pair (d, n) or the triplet (p, q, d) )."
   ]
  },
  {
   "cell_type": "code",
   "execution_count": 1,
   "id": "2d459a1e",
   "metadata": {},
   "outputs": [
    {
     "name": "stdout",
     "output_type": "stream",
     "text": [
      "the Public Key is :(133971834326169959816105971291095245323,65537)\n",
      "the private Key is : 106477118796209998866753880418259527353\n"
     ]
    }
   ],
   "source": [
    "from Crypto.Util.number import getPrime,inverse,long_to_bytes,bytes_to_long\n",
    "#We'll use small primes\n",
    "p,q=getPrime(64),getPrime(64)\n",
    "N=p * q\n",
    "e=2**16 + 1\n",
    "phi=(p-1) * (q-1)\n",
    "d=inverse(e,phi)\n",
    "assert (e*d % phi ==1)\n",
    "print(f\"the Public Key is :({N},{e})\")\n",
    "print(f\"the private Key is : {d}\")"
   ]
  },
  {
   "cell_type": "markdown",
   "id": "a68f7456",
   "metadata": {},
   "source": [
    "# Extended Euclid's Algorithm\n",
    "In mathematics, Extended Euclid's Algorithm is a variant of Euclid's Algorithm. From two integers a and b, it calculates not only their greatest common divisor (GCD), but also one of their pairs of Bézout coefficients, i.e. two integers u and v such that au + bv = GCD(a, b)."
   ]
  },
  {
   "cell_type": "code",
   "execution_count": null,
   "id": "af3eec4d",
   "metadata": {},
   "outputs": [],
   "source": [
    "def algo_Euclide_etendu(a,b):\n",
    "    r1,u1,v1,r2,u2,v2 = a, 1, 0, b, 0, 1 \n",
    "    while(r2!=0 ):\n",
    "        q=int(r1/r2)\n",
    "        r1,u1,v1,r2,u2,v2=r2,u2,v2,r1%r2,u1-q*u2,v1-q*v2\n",
    "    message=\"PGCD(\"+str(a)+\",\"+str(b)+\")=\"+str(r1)+\" = u*\"+str(a)+\"+ v*\"+str(b)+\"  =======>  u=\"+str(u1)+\" v=\"+str(v1)\n",
    "    print(message)\n",
    "algo_Euclide_etendu(226315,14856)"
   ]
  },
  {
   "cell_type": "code",
   "execution_count": null,
   "id": "cbeded13",
   "metadata": {},
   "outputs": [],
   "source": [
    "from Crypto.Util.number import inverse\n",
    "\n",
    "print(inverse(226315,14856))"
   ]
  },
  {
   "cell_type": "markdown",
   "id": "5d542f5c",
   "metadata": {},
   "source": [
    "# Key distribution\n",
    "Suppose that Bob wants to send information to Alice. If they decide to use RSA, Bob must know Alice's public key to encrypt the message, and Alice must use her private key to decrypt the message.\n",
    "\n",
    "To enable Bob to send his encrypted messages, Alice transmits her public key (n, e) to Bob via a reliable, but not necessarily secret, route. Alice's private key (d) is never distributed.\n"
   ]
  },
  {
   "attachments": {
    "image.png": {
     "image/png": "[encoded data removed]"
    }
   },
   "cell_type": "markdown",
   "id": "e3709688",
   "metadata": {},
   "source": [
    "# Encryption :\n",
    "\n",
    "After Bob obtains Alice's public key, he can send a message M to Alice.\n",
    "\n",
    "To do it, he first turns M (strictly speaking, the un-padded plaintext) into an integer m (strictly speaking, the padded plaintext), such that 0 ≤ m < n by using an agreed-upon reversible protocol known as a padding scheme. He then computes the ciphertext c, using Alice's public key e, corresponding to\n",
    "\n",
    "![image.png](attachment:image.png)\n",
    "\n",
    "This can be done reasonably quickly, even for very large numbers, using modular exponentiation. Bob then transmits c to Alice. Note that at least nine values of m will yield a ciphertext c equal to m but this is very unlikely to occur in practice.\n"
   ]
  },
  {
   "attachments": {
    "image.png": {
     "image/png": "[encoded data removed]"
    }
   },
   "cell_type": "markdown",
   "id": "fa67f9f1",
   "metadata": {},
   "source": [
    "# Decryption\n",
    "\n",
    "To decipher C, we use d, the inverse of e modulo (p – 1)(q – 1), and we find the plain message M by \n",
    "\n",
    "![image.png](attachment:image.png)"
   ]
  },
  {
   "cell_type": "code",
   "execution_count": 2,
   "id": "f9a70299",
   "metadata": {},
   "outputs": [
    {
     "name": "stdout",
     "output_type": "stream",
     "text": [
      "the encrypted message is :b'33\\xb0P\\x8cF\\x15\\x83l f0d7\\x9eJ'\n",
      "m1: b'a secret message'\n"
     ]
    }
   ],
   "source": [
    "m=b'a secret message'\n",
    "#the encryption\n",
    "c=pow(bytes_to_long(m),e,N)\n",
    "print(f\"the encrypted message is :{long_to_bytes(c)}\")\n",
    "#the decryption\n",
    "m1=long_to_bytes(pow(c,d,N))\n",
    "assert m1==m\n",
    "print(f\"m1: {m1}\")"
   ]
  },
  {
   "cell_type": "code",
   "execution_count": null,
   "id": "a09b6729",
   "metadata": {},
   "outputs": [],
   "source": []
  }
 ],
 "metadata": {
  "kernelspec": {
   "display_name": "Python 3 (ipykernel)",
   "language": "python",
   "name": "python3"
  },
  "language_info": {
   "codemirror_mode": {
    "name": "ipython",
    "version": 3
   },
   "file_extension": ".py",
   "mimetype": "text/x-python",
   "name": "python",
   "nbconvert_exporter": "python",
   "pygments_lexer": "ipython3",
   "version": "3.9.1"
  }
 },
 "nbformat": 4,
 "nbformat_minor": 5
}

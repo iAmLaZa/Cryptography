{
 "cells": [
  {
   "cell_type": "code",
   "execution_count": null,
   "id": "1811b532",
   "metadata": {},
   "outputs": [],
   "source": [
    "def algo_Euclide_etendu(a,b):\n",
    "    r1,u1,v1,r2,u2,v2 = a, 1, 0, b, 0, 1 \n",
    "    while(r2!=0 ):\n",
    "        q=int(r1/r2)\n",
    "        r1,u1,v1,r2,u2,v2=r2,u2,v2,r1%r2,u1-q*u2,v1-q*v2\n",
    "    message=\"PGCD(\"+str(a)+\",\"+str(b)+\")=\"+str(r1)+\" = u*\"+str(a)+\"+ v*\"+str(b)+\"  =======>  u=\"+str(u1)+\" v=\"+str(v1)\n",
    "    print(message)\n",
    "algo_Euclide_etendu(226315,14856)"
   ]
  },
  {
   "cell_type": "code",
   "execution_count": null,
   "id": "2b4dc06e",
   "metadata": {},
   "outputs": [],
   "source": [
    "from Crypto.Util.number import inverse\n",
    "\n",
    "print(inverse(226315,14856))"
   ]
  }
 ],
 "metadata": {
  "kernelspec": {
   "display_name": "Python 3 (ipykernel)",
   "language": "python",
   "name": "python3"
  },
  "language_info": {
   "codemirror_mode": {
    "name": "ipython",
    "version": 3
   },
   "file_extension": ".py",
   "mimetype": "text/x-python",
   "name": "python",
   "nbconvert_exporter": "python",
   "pygments_lexer": "ipython3",
   "version": "3.9.1"
  }
 },
 "nbformat": 4,
 "nbformat_minor": 5
}

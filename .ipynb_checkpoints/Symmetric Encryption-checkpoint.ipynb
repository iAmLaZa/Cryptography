{
 "cells": [
  {
   "cell_type": "markdown",
   "id": "99673f5f",
   "metadata": {},
   "source": [
    "# Introduction: \n",
    "Is a type of ciphers where there is only a one secret key used to perform the encryption and the decryption.\n",
    "\n",
    "Examples:\n",
    "\n",
    "\n",
    "● One-time pad .\n",
    "\n",
    "● Advanced Encryption Standard (AES) .\n",
    "\n",
    "● Stream Ciphers .\n"
   ]
  }
 ],
 "metadata": {
  "kernelspec": {
   "display_name": "Python 3 (ipykernel)",
   "language": "python",
   "name": "python3"
  },
  "language_info": {
   "codemirror_mode": {
    "name": "ipython",
    "version": 3
   },
   "file_extension": ".py",
   "mimetype": "text/x-python",
   "name": "python",
   "nbconvert_exporter": "python",
   "pygments_lexer": "ipython3",
   "version": "3.9.1"
  }
 },
 "nbformat": 4,
 "nbformat_minor": 5
}

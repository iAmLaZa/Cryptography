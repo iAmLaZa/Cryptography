{
 "cells": [
  {
   "cell_type": "markdown",
   "id": "e3f3d3d0",
   "metadata": {},
   "source": [
    "# CESAR\n",
    "In cryptography, the shift cipher, also known as Caesar's cipher or Caesar's code (see different names), is a very simple encryption method used by Julius Caesar in his secret correspondence.\n",
    "\n",
    "\n",
    "The ciphertext is obtained by replacing each letter of the original plaintext with a letter at a fixed distance, always on the same side, in the order of the alphabet. For the last letters (in the case of a shift to the right), we start from the beginning ( modulo % ). "
   ]
  },
  {
   "cell_type": "markdown",
   "id": "65fa5b2c",
   "metadata": {},
   "source": [
    "# Example\n",
    "Encryption can be represented by the superposition of two alphabets, the plain alphabet presented in the normal order and the encrypted alphabet shifted, to the left or to the right, by the desired number of letters. Below is an example of encoding 3 letters to the right. The offset parameter (here 3) is the encryption key:\n",
    "\n",
    "\n",
    "    clear:     ABCDEFGHIJKLMNOPQRSTUVWXYZ .\n",
    "\n",
    "    encrypted: DEFGHIJKLMNOPQRSTUVWXYZABC .\n",
    "\n",
    "To encode a message, just look at each letter of the plain message, and write the corresponding encoded letter. To decipher, we simply do the opposite.\n",
    "\n",
    "    original: WIKIPEDIA THE FREE ENCYCLOPEDIA .\n",
    "\n",
    "    encoded:  ZLNLSHGLD O'HQFBFORSHGLH OLEUH  .\n",
    "\n",
    "    Encryption :E(x) = (x+n) % [26]\n",
    "    Decryption :D(x) = (x-n) % [26]\n"
   ]
  },
  {
   "cell_type": "code",
   "execution_count": 11,
   "id": "f54fe3e8",
   "metadata": {},
   "outputs": [],
   "source": [
    "import random\n",
    "import os\n",
    "from pwn import xor"
   ]
  },
  {
   "cell_type": "code",
   "execution_count": 27,
   "id": "5d534392",
   "metadata": {},
   "outputs": [],
   "source": [
    "def encrypt(text,k):\n",
    "    result= \"\"\n",
    "    #plaintext -> ciphertext\n",
    "    for char in text:\n",
    "        if(char.isalpha()):\n",
    "            #uppercase\n",
    "            if (char.isupper()):\n",
    "                result += chr((ord(char) + k - 65) % 26 + 65 )\n",
    "            #lowercase\n",
    "            else :\n",
    "                result += chr((ord(char) + k - 97 ) % 26 + 97 )\n",
    "        else :\n",
    "            result += \" \"\n",
    "    return result "
   ]
  },
  {
   "cell_type": "code",
   "execution_count": 28,
   "id": "4ae0f682",
   "metadata": {},
   "outputs": [
    {
     "name": "stdout",
     "output_type": "stream",
     "text": [
      "l Dp OdCd\n"
     ]
    }
   ],
   "source": [
    "print(encrypt(\"i Am LaZa\",3))"
   ]
  },
  {
   "cell_type": "code",
   "execution_count": 29,
   "id": "ad21bc7b",
   "metadata": {},
   "outputs": [],
   "source": [
    "def decrypt(text,k):\n",
    "    result= \"\"\n",
    "    #ciphertext ->  plaintext\n",
    "    for char in text:\n",
    "        if(char.isalpha()):\n",
    "            #uppercase\n",
    "            if (char.isupper()):\n",
    "                result += chr((ord(char) - k - 65) % 26 + 65 )\n",
    "            #lowercase\n",
    "            else :\n",
    "                result += chr((ord(char) - k - 97 ) % 26 + 97 )\n",
    "        else :\n",
    "            result += \" \"\n",
    "    return result \n",
    "    "
   ]
  },
  {
   "cell_type": "code",
   "execution_count": 30,
   "id": "e4d01d0c",
   "metadata": {},
   "outputs": [
    {
     "name": "stdout",
     "output_type": "stream",
     "text": [
      "i Am LaZa\n"
     ]
    }
   ],
   "source": [
    "print(decrypt(\"l Dp OdCd\",3))"
   ]
  },
  {
   "cell_type": "markdown",
   "id": "a289e122",
   "metadata": {},
   "source": [
    "# The Common Inconvenient :\n",
    "We can notice that any modern computer can break the previous ciphers in few seconds by running a brute force attack on the keys.\n"
   ]
  },
  {
   "cell_type": "markdown",
   "id": "94edc0d5",
   "metadata": {},
   "source": [
    "# The Brute Force Attack :"
   ]
  },
  {
   "cell_type": "code",
   "execution_count": 10,
   "id": "41241510",
   "metadata": {},
   "outputs": [
    {
     "name": "stdout",
     "output_type": "stream",
     "text": [
      "the ciphertext is hZlKzYz\n",
      "the key was 25\n"
     ]
    }
   ],
   "source": [
    "plaintext = \"iAmLaZa\"\n",
    "key = random .randint(0,25)\n",
    "ciphertext= encrypt(plaintext,key)\n",
    "print (\"the ciphertext is \" + ciphertext)\n",
    "\n",
    "for k in range(26):\n",
    "    if plaintext == decrypt(ciphertext,k):\n",
    "        print(\"the key was \" +str (k))\n",
    "        break "
   ]
  },
  {
   "cell_type": "code",
   "execution_count": null,
   "id": "f24ef39c",
   "metadata": {},
   "outputs": [],
   "source": []
  }
 ],
 "metadata": {
  "kernelspec": {
   "display_name": "Python 3 (ipykernel)",
   "language": "python",
   "name": "python3"
  },
  "language_info": {
   "codemirror_mode": {
    "name": "ipython",
    "version": 3
   },
   "file_extension": ".py",
   "mimetype": "text/x-python",
   "name": "python",
   "nbconvert_exporter": "python",
   "pygments_lexer": "ipython3",
   "version": "3.9.1"
  }
 },
 "nbformat": 4,
 "nbformat_minor": 5
}
